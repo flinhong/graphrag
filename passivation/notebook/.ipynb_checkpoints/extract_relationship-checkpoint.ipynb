{
 "cells": [
  {
   "cell_type": "code",
   "execution_count": 1,
   "metadata": {},
   "outputs": [
    {
     "name": "stdout",
     "output_type": "stream",
     "text": [
      "Here are the relationships extracted from the text:\n",
      "\n",
      "* (crystalline silicon, **is a type of**, SolarCellType)\n",
      "* (p-type silicon wafer, **is a type of**, SolarCellType) \n",
      "* (n-type silicon wafer, **is a type of**, SolarCellType)\n",
      "* (boron-oxygen related defects, **cause**, carrier induced degradation) \n",
      "* (boron-doped p-type silicon wafer, **characterized by**, boron-oxygen related defects)\n",
      "* (carrier induced degradation, **affects**, solar cell performance)\n",
      "* (laser-induced hydrogen passivation, **is a technique for**, hydrogen passivation)\n",
      "* (laser-induced hydrogen passivation, **can improve**, minority carrier lifetime)\n",
      "* (boron-oxygen (B-O) complex, **leads to**, carrier-induced degradation)\n",
      "* (hydrogen atoms, **can deactivate**, boron-oxygen (B-O) complex)\n",
      "* (silicon nitride layer, **contains**, hydrogen atoms)\n",
      "* (interstitial hydrogen, **undergoes**, locally stable charge states)\n",
      "\n",
      "\n",
      "Let me know if you have any other text you'd like me to analyze! \n",
      "\n"
     ]
    }
   ],
   "source": [
    "from groq import Groq\n",
    "\n",
    "client = Groq(\n",
    "    api_key=\"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\"\n",
    ")\n",
    "\n",
    "# Define the function to generate a prompt\n",
    "entity_types=[\n",
    "    \"Material\",\n",
    "    \"ChemicalCompound\",\n",
    "    \"DepositionMethod\",\n",
    "    \"PassivationTechnique\",\n",
    "    \"SolarCellType\",\n",
    "    \"Layer\",\n",
    "    \"PerformanceMetric\",\n",
    "    \"EfficiencyMetric\",\n",
    "    \"ElectricalProperty\",\n",
    "    \"OpticalProperty\",\n",
    "    \"CharacterizationTechnique\",\n",
    "    \"DefectType\",\n",
    "    \"DegradationMechanism\",\n",
    "    \"EnvironmentalFactor\",\n",
    "    \"IndustryStandard\",\n",
    "    \"TestingProtocol\",\n",
    "    \"ProductionEquipment\",\n",
    "    \"ProductionScale\",\n",
    "    \"ResearchInstitution\"\n",
    "]\n",
    "\n",
    "def generate_prompt(text_chunk, entity_types):\n",
    "    # Start with a base instruction\n",
    "    prompt = \"Read the following text and extract the relationships between entities (or nodes). Please use short-term for relationships, and extracted entities should be one of the following types: \"\n",
    "    \n",
    "    # Add each requirement to the prompt\n",
    "    prompt += \", \".join(entity_types) + \". \"\n",
    "    prompt += \"List each relationship in the json format {head: Entity 1, relationship: Relationship, tail: Entity 2}.\\n\\n\"\n",
    "    prompt += f\"Text: \\\"{text_chunk}\\\"\\n\\nOutput:\\n\"\n",
    "    \n",
    "    return prompt\n",
    "\n",
    "# Function to extract relationships using OpenAI API\n",
    "def extract_relationships(text_chunk):\n",
    "    prompt = generate_prompt(text_chunk, entity_types)\n",
    "    response =  client.chat.completions.create(\n",
    "        model=\"gemma2-9b-it\",  # or \"gpt-3.5-turbo\" depending on your access\n",
    "        messages=[\n",
    "            {\"role\": \"system\", \"content\": \"You are an expert in text analysis and relationship extraction, and professional in the field of solar cell fabrication and characterization.\"},\n",
    "            {\"role\": \"user\", \"content\": prompt}\n",
    "        ],\n",
    "        max_tokens=5000  # Adjust based on the expected length of response\n",
    "    )\n",
    "\n",
    "    # Extract and return the response text\n",
    "    output = response.choices[0].message.content\n",
    "    return output\n",
    "\n",
    "# Test with a sample text chunk\n",
    "text_chunk = \"p-type, n-type and upgraded metallurgical\\ngrade crystalline silicon solar cells, respectively. Especially, the regeneration of boron-oxygen related defects,\\nwhich cause carrier induced degradation, will be closely discussed since most of industrial solar cells are fabricated by boron-doped p-type silicon wafer. Moreover, laser-induced hydrogen passivation, which can locally\\nrecover defective area on the solar cells, will be addressed. In the conclusion, proper conditions of advanced\\nhydrogen passivation for the successful improvement of minority carrier lifetime will be summarized.\\ncrystalline silicon [5,9–15]. Moreover, it has been reported that boronoxygen (B-O) complex, which leads to carrier-induced degradation\\n(CID) in boron doped p-type silicon wafers, can be deactivated effectively by using hydrogen atoms in the silicon nitride layer [16–21].\\nFor effective hydrogen passivation of defects in crystalline silicon,\\nlocally stable charge states of interstitial hydrogen was\"\n",
    "relationships = extract_relationships(text_chunk)\n",
    "print(relationships)"
   ]
  },
  {
   "cell_type": "code",
   "execution_count": null,
   "metadata": {},
   "outputs": [],
   "source": []
  }
 ],
 "metadata": {
  "kernelspec": {
   "display_name": "Python 3 (ipykernel)",
   "language": "python",
   "name": "python3"
  },
  "language_info": {
   "codemirror_mode": {
    "name": "ipython",
    "version": 3
   },
   "file_extension": ".py",
   "mimetype": "text/x-python",
   "name": "python",
   "nbconvert_exporter": "python",
   "pygments_lexer": "ipython3",
   "version": "3.11.9"
  }
 },
 "nbformat": 4,
 "nbformat_minor": 4
}
